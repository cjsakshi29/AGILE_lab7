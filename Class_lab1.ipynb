{
 "cells": [
  {
   "cell_type": "code",
   "execution_count": 27,
   "id": "4e7ecbcc-8a1f-4425-b30d-32abed9ffa37",
   "metadata": {},
   "outputs": [],
   "source": [
    "import numpy as np\n",
    "import matplotlib.pyplot as plt\n",
    "import pandas as pd\n",
    "from sklearn.svm import SVC"
   ]
  },
  {
   "cell_type": "code",
   "execution_count": 29,
   "id": "5409e001-973d-4928-93dd-5e6e8475e2b5",
   "metadata": {},
   "outputs": [],
   "source": [
    "X = [[30],[40],[50],[60],[20],[10],[70]]\n",
    "y = [0,1,1,1,0,0,1]"
   ]
  },
  {
   "cell_type": "code",
   "execution_count": 31,
   "id": "1235831a-2204-42b9-9097-1d7bfa1ce480",
   "metadata": {},
   "outputs": [
    {
     "name": "stdout",
     "output_type": "stream",
     "text": [
      "[1]\n"
     ]
    }
   ],
   "source": [
    "classifier = SVC(kernel = 'linear', random_state = 0)\n",
    "classifier.fit(X,y)\n",
    "X_marks=[[55]]\n",
    "print(classifier.predict(X_marks))"
   ]
  },
  {
   "cell_type": "code",
   "execution_count": 39,
   "id": "80b35223-8555-44dd-8434-21b107ea141e",
   "metadata": {},
   "outputs": [
    {
     "name": "stdout",
     "output_type": "stream",
     "text": [
      "Test Accuracy: 0.30\n"
     ]
    }
   ],
   "source": [
    "import numpy as np\n",
    "from sklearn.model_selection import train_test_split\n",
    "from sklearn.preprocessing import StandardScaler\n",
    "from qiskit_algorithms.optimizers import COBYLA\n",
    "from qiskit.circuit.library import ZZFeatureMap, RealAmplitudes\n",
    "from qiskit_machine_learning.algorithms.classifiers import VQC\n",
    "from qiskit_machine_learning.datasets import ad_hoc_data\n",
    "\n",
    "# Generate synthetic dataset\n",
    "feature_dim = 2  # Number of features\n",
    "training_data, training_labels, test_data, test_labels = ad_hoc_data(training_size=20, test_size=10, n=feature_dim, gap=0.3)\n",
    "\n",
    "# Normalize dataset\n",
    "scaler = StandardScaler()\n",
    "training_data = scaler.fit_transform(training_data)\n",
    "test_data = scaler.transform(test_data)\n",
    "\n",
    "# Define quantum feature map and variational circuit\n",
    "feature_map = ZZFeatureMap(feature_dim)\n",
    "variational_circuit = RealAmplitudes(feature_dim, reps=3)\n",
    "\n",
    "# Define the quantum classifier\n",
    "vqc = VQC(\n",
    "    optimizer=COBYLA(maxiter=100),\n",
    "    feature_map=feature_map,\n",
    "    ansatz=variational_circuit\n",
    ")\n",
    "\n",
    "# Train the classifier\n",
    "vqc.fit(training_data, training_labels)\n",
    "\n",
    "# Evaluate on test data\n",
    "accuracy = vqc.score(test_data, test_labels)\n",
    "print(f\"Test Accuracy: {accuracy:.2f}\")"
   ]
  },
  {
   "cell_type": "code",
   "execution_count": 45,
   "id": "a511b129-0ca5-4385-b541-287aabe84f7e",
   "metadata": {},
   "outputs": [
    {
     "ename": "ModuleNotFoundError",
     "evalue": "No module named 'qiskit.algorithms'",
     "output_type": "error",
     "traceback": [
      "\u001b[0;31m---------------------------------------------------------------------------\u001b[0m",
      "\u001b[0;31mModuleNotFoundError\u001b[0m                       Traceback (most recent call last)",
      "Cell \u001b[0;32mIn[45], line 2\u001b[0m\n\u001b[1;32m      1\u001b[0m \u001b[38;5;28;01mimport\u001b[39;00m \u001b[38;5;21;01mnumpy\u001b[39;00m \u001b[38;5;28;01mas\u001b[39;00m \u001b[38;5;21;01mnp\u001b[39;00m\n\u001b[0;32m----> 2\u001b[0m \u001b[38;5;28;01mfrom\u001b[39;00m \u001b[38;5;21;01mqiskit\u001b[39;00m\u001b[38;5;21;01m.\u001b[39;00m\u001b[38;5;21;01malgorithms\u001b[39;00m\u001b[38;5;21;01m.\u001b[39;00m\u001b[38;5;21;01moptimizers\u001b[39;00m \u001b[38;5;28;01mimport\u001b[39;00m COBYLA\n\u001b[1;32m      3\u001b[0m \u001b[38;5;28;01mfrom\u001b[39;00m \u001b[38;5;21;01mqiskit\u001b[39;00m\u001b[38;5;21;01m.\u001b[39;00m\u001b[38;5;21;01mcircuit\u001b[39;00m\u001b[38;5;21;01m.\u001b[39;00m\u001b[38;5;21;01mlibrary\u001b[39;00m \u001b[38;5;28;01mimport\u001b[39;00m ZZFeatureMap, RealAmplitudes\n\u001b[1;32m      4\u001b[0m \u001b[38;5;28;01mfrom\u001b[39;00m \u001b[38;5;21;01mqiskit_machine_learning\u001b[39;00m\u001b[38;5;21;01m.\u001b[39;00m\u001b[38;5;21;01malgorithms\u001b[39;00m\u001b[38;5;21;01m.\u001b[39;00m\u001b[38;5;21;01mclassifiers\u001b[39;00m \u001b[38;5;28;01mimport\u001b[39;00m VQC\n",
      "\u001b[0;31mModuleNotFoundError\u001b[0m: No module named 'qiskit.algorithms'"
     ]
    }
   ],
   "source": [
    "import numpy as np\n",
    "from qiskit.algorithms.optimizers import COBYLA\n",
    "from qiskit.circuit.library import ZZFeatureMap, RealAmplitudes\n",
    "from qiskit_machine_learning.algorithms.classifiers import VQC\n",
    "from qiskit.primitives import Sampler\n",
    "\n",
    "# Define training data\n",
    "X = np.array([[30], [40], [50], [60], [20], [10], [70]])\n",
    "y = np.array([0, 1, 1, 1, 0, 0, 1])\n",
    "\n",
    "# Normalize data\n",
    "X = X / np.max(X)\n",
    "\n",
    "# Define feature map and variational circuit\n",
    "feature_map = ZZFeatureMap(feature_dimension=1, reps=2)\n",
    "ansatz = RealAmplitudes(num_qubits=1, reps=2)\n",
    "\n",
    "# Define optimizer\n",
    "optimizer = COBYLA(maxiter=100)\n",
    "\n",
    "# Define quantum instance\n",
    "quantum_instance = Sampler()\n",
    "\n",
    "# Create VQC model\n",
    "vqc = VQC(\n",
    "    feature_map=feature_map,\n",
    "    ansatz=ansatz,\n",
    "    optimizer=optimizer,\n",
    "    quantum_instance=quantum_instance\n",
    ")\n",
    "\n",
    "# Train the model\n",
    "vqc.fit(X, y)\n",
    "\n",
    "# Predict new data\n",
    "X_marks = np.array([[55]]) / np.max(X)  # Normalize new data\n",
    "prediction = vqc.predict(X_marks)\n",
    "print(f\"Prediction for {X_marks * np.max(X)}: {prediction}\")"
   ]
  },
  {
   "cell_type": "code",
   "execution_count": 54,
   "id": "4ffaaaf8-bed8-4386-97b3-341ae991e2d6",
   "metadata": {},
   "outputs": [
    {
     "ename": "ModuleNotFoundError",
     "evalue": "No module named 'keras.engine.base_layer_v1'",
     "output_type": "error",
     "traceback": [
      "\u001b[0;31m---------------------------------------------------------------------------\u001b[0m",
      "\u001b[0;31mModuleNotFoundError\u001b[0m                       Traceback (most recent call last)",
      "Cell \u001b[0;32mIn[54], line 20\u001b[0m\n\u001b[1;32m     18\u001b[0m y \u001b[38;5;241m=\u001b[39m [\u001b[38;5;241m0\u001b[39m,\u001b[38;5;241m1\u001b[39m,\u001b[38;5;241m1\u001b[39m,\u001b[38;5;241m1\u001b[39m,\u001b[38;5;241m0\u001b[39m,\u001b[38;5;241m0\u001b[39m,\u001b[38;5;241m1\u001b[39m]\n\u001b[1;32m     19\u001b[0m model \u001b[38;5;241m=\u001b[39m Sequential()\n\u001b[0;32m---> 20\u001b[0m model\u001b[38;5;241m.\u001b[39madd(Dense(\u001b[38;5;241m500\u001b[39m, activation\u001b[38;5;241m=\u001b[39m\u001b[38;5;124m'\u001b[39m\u001b[38;5;124mrelu\u001b[39m\u001b[38;5;124m'\u001b[39m, input_dim\u001b[38;5;241m=\u001b[39m\u001b[38;5;241m1\u001b[39m))\n\u001b[1;32m     21\u001b[0m model\u001b[38;5;241m.\u001b[39madd(Dense(\u001b[38;5;241m100\u001b[39m, activation\u001b[38;5;241m=\u001b[39m\u001b[38;5;124m'\u001b[39m\u001b[38;5;124mrelu\u001b[39m\u001b[38;5;124m'\u001b[39m))\n\u001b[1;32m     22\u001b[0m model\u001b[38;5;241m.\u001b[39madd(Dense(\u001b[38;5;241m50\u001b[39m, activation\u001b[38;5;241m=\u001b[39m\u001b[38;5;124m'\u001b[39m\u001b[38;5;124mrelu\u001b[39m\u001b[38;5;124m'\u001b[39m))\n",
      "File \u001b[0;32m/opt/anaconda3/lib/python3.12/site-packages/keras/engine/base_layer.py:757\u001b[0m, in \u001b[0;36m__new__\u001b[0;34m(cls, *args, **kwargs)\u001b[0m\n",
      "File \u001b[0;32m/opt/anaconda3/lib/python3.12/site-packages/keras/utils/version_utils.py:49\u001b[0m, in \u001b[0;36m__new__\u001b[0;34m(cls, *args, **kwargs)\u001b[0m\n",
      "File \u001b[0;32m/opt/anaconda3/lib/python3.12/site-packages/keras/utils/generic_utils.py:556\u001b[0m, in \u001b[0;36m__getattr__\u001b[0;34m(self, item)\u001b[0m\n",
      "File \u001b[0;32m/opt/anaconda3/lib/python3.12/site-packages/keras/utils/generic_utils.py:547\u001b[0m, in \u001b[0;36m_load\u001b[0;34m(self)\u001b[0m\n",
      "File \u001b[0;32m/opt/anaconda3/lib/python3.12/importlib/__init__.py:90\u001b[0m, in \u001b[0;36mimport_module\u001b[0;34m(name, package)\u001b[0m\n\u001b[1;32m     88\u001b[0m             \u001b[38;5;28;01mbreak\u001b[39;00m\n\u001b[1;32m     89\u001b[0m         level \u001b[38;5;241m+\u001b[39m\u001b[38;5;241m=\u001b[39m \u001b[38;5;241m1\u001b[39m\n\u001b[0;32m---> 90\u001b[0m \u001b[38;5;28;01mreturn\u001b[39;00m _bootstrap\u001b[38;5;241m.\u001b[39m_gcd_import(name[level:], package, level)\n",
      "File \u001b[0;32m<frozen importlib._bootstrap>:1387\u001b[0m, in \u001b[0;36m_gcd_import\u001b[0;34m(name, package, level)\u001b[0m\n",
      "File \u001b[0;32m<frozen importlib._bootstrap>:1360\u001b[0m, in \u001b[0;36m_find_and_load\u001b[0;34m(name, import_)\u001b[0m\n",
      "File \u001b[0;32m<frozen importlib._bootstrap>:1324\u001b[0m, in \u001b[0;36m_find_and_load_unlocked\u001b[0;34m(name, import_)\u001b[0m\n",
      "\u001b[0;31mModuleNotFoundError\u001b[0m: No module named 'keras.engine.base_layer_v1'"
     ]
    }
   ],
   "source": [
    "# Import required libraries\n",
    "import pandas as pd\n",
    "import numpy as np \n",
    "import matplotlib.pyplot as plt\n",
    "import sklearn\n",
    "\n",
    "# Import necessary modules\n",
    "from sklearn.model_selection import train_test_split\n",
    "from sklearn.metrics import mean_squared_error\n",
    "from math import sqrt\n",
    "\n",
    "# Keras specific\n",
    "import keras\n",
    "from keras.models import Sequential\n",
    "from keras.layers import Dense\n",
    "from keras.utils import to_categorical \n",
    "X = [[30],[40],[50],[60],[20],[10],[70]]\n",
    "y = [0,1,1,1,0,0,1]\n",
    "model = Sequential()\n",
    "model.add(Dense(500, activation='relu', input_dim=1))\n",
    "model.add(Dense(100, activation='relu'))\n",
    "model.add(Dense(50, activation='relu'))\n",
    "model.add(Dense(1, activation='sigmoid'))\n",
    "\n",
    "# Compile the model\n",
    "model.compile(optimizer='adam', \n",
    "              loss='binary_crossentropy', \n",
    "              metrics=['accuracy'])\n",
    "model.fit(X,y, epochs=100)\n",
    "X_marks=[[20]]\n",
    "print(model.predict(X_marks))"
   ]
  },
  {
   "cell_type": "code",
   "execution_count": null,
   "id": "b23ea9e6-85a2-4d7e-a65d-f766072aef5d",
   "metadata": {},
   "outputs": [],
   "source": []
  }
 ],
 "metadata": {
  "kernelspec": {
   "display_name": "Python [conda env:base] *",
   "language": "python",
   "name": "conda-base-py"
  },
  "language_info": {
   "codemirror_mode": {
    "name": "ipython",
    "version": 3
   },
   "file_extension": ".py",
   "mimetype": "text/x-python",
   "name": "python",
   "nbconvert_exporter": "python",
   "pygments_lexer": "ipython3",
   "version": "3.12.7"
  }
 },
 "nbformat": 4,
 "nbformat_minor": 5
}
